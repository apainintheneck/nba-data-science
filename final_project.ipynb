{
 "cells": [
  {
   "cell_type": "markdown",
   "metadata": {},
   "source": [
    "# Final Project\n",
    "## Date: 06/18/2021\n",
    "## Team: Bryce Randolph, Jeannie Davis, Harsandeep Singh, Kevin Robell\n",
    "---"
   ]
  },
  {
   "cell_type": "code",
   "execution_count": 1,
   "metadata": {},
   "outputs": [],
   "source": [
    "%matplotlib inline\n",
    "import numpy as np\n",
    "import pandas as pd\n",
    "import matplotlib.pyplot as plt\n",
    "from matplotlib import rcParams\n",
    "from sklearn.model_selection import train_test_split\n",
    "from sklearn.preprocessing import StandardScaler\n",
    "from sklearn.neighbors import KNeighborsClassifier\n",
    "from sklearn.metrics import classification_report,confusion_matrix\n",
    "from sklearn.linear_model import LinearRegression\n",
    "from sklearn import metrics\n",
    "import seaborn as sns\n",
    "sns.set()\n",
    "rcParams['figure.figsize'] = 8,6\n",
    "sns.set_context('talk')   # 'talk' for slightly larger"
   ]
  },
  {
   "cell_type": "markdown",
   "metadata": {},
   "source": [
    "## What we are going to predict\n",
    "We want to predict the winner of an NBA game based on the game stats from the 2019 season which is in the HOME_TEAM_WINS column.\n"
   ]
  },
  {
   "cell_type": "markdown",
   "metadata": {},
   "source": [
    "## Choice of Dataset\n",
    "Our dataset is focused on the 2019 season from this dataset of NBA games(games.csv). https://www.kaggle.com/nathanlauga/nba-games. We are choosing to make the program modular enough that other seasons can also be analyzed, but only a single season is chosen at a time to stay within the goals of the project. Drop the games.csv in the same folder as this file to run the following code."
   ]
  },
  {
   "cell_type": "markdown",
   "metadata": {},
   "source": [
    "## Predictors\n",
    "To predict the winner of each game we will use all of the game stats except for the PTS_away and PTS_home columns. In addition, two predictors have been added, the REB_PCT_away and REB_PCT_home columns, based upon the REB_away and REB_home columns as seen below.\n",
    "\n",
    "#### List of Predictors \n",
    " 8   FG_PCT_home       1241 non-null   float64   \n",
    " 9   FT_PCT_home       1241 non-null   float64   \n",
    " 10  FG3_PCT_home      1241 non-null   float64   \n",
    " 11  AST_home          1241 non-null   float64   \n",
    " 12  REB_home          1241 non-null   float64   \n",
    " 15  FG_PCT_away       1241 non-null   float64   \n",
    " 16  FT_PCT_away       1241 non-null   float64   \n",
    " 17  FG3_PCT_away      1241 non-null   float64   \n",
    " 18  AST_away          1241 non-null   float64   \n",
    " 19  REB_away          1241 non-null   float64   \n",
    " 21  REB_PCT_away      1241 non-null   float64   \n",
    " 22  REB_PCT_home      1241 non-null   float64   "
   ]
  },
  {
   "cell_type": "markdown",
   "metadata": {},
   "source": [
    "---\n",
    "## Reading the Data"
   ]
  },
  {
   "cell_type": "code",
   "execution_count": 2,
   "metadata": {},
   "outputs": [],
   "source": [
    "df = pd.read_csv(\"games.csv\")\n",
    "df = df[df.SEASON == 2019]"
   ]
  },
  {
   "cell_type": "markdown",
   "metadata": {},
   "source": [
    "## Initial Exploration "
   ]
  },
  {
   "cell_type": "code",
   "execution_count": 3,
   "metadata": {},
   "outputs": [
    {
     "name": "stdout",
     "output_type": "stream",
     "text": [
      "<class 'pandas.core.frame.DataFrame'>\n",
      "Int64Index: 1241 entries, 1206 to 17677\n",
      "Data columns (total 21 columns):\n",
      " #   Column            Non-Null Count  Dtype  \n",
      "---  ------            --------------  -----  \n",
      " 0   GAME_DATE_EST     1241 non-null   object \n",
      " 1   GAME_ID           1241 non-null   int64  \n",
      " 2   GAME_STATUS_TEXT  1241 non-null   object \n",
      " 3   HOME_TEAM_ID      1241 non-null   int64  \n",
      " 4   VISITOR_TEAM_ID   1241 non-null   int64  \n",
      " 5   SEASON            1241 non-null   int64  \n",
      " 6   TEAM_ID_home      1241 non-null   int64  \n",
      " 7   PTS_home          1241 non-null   float64\n",
      " 8   FG_PCT_home       1241 non-null   float64\n",
      " 9   FT_PCT_home       1241 non-null   float64\n",
      " 10  FG3_PCT_home      1241 non-null   float64\n",
      " 11  AST_home          1241 non-null   float64\n",
      " 12  REB_home          1241 non-null   float64\n",
      " 13  TEAM_ID_away      1241 non-null   int64  \n",
      " 14  PTS_away          1241 non-null   float64\n",
      " 15  FG_PCT_away       1241 non-null   float64\n",
      " 16  FT_PCT_away       1241 non-null   float64\n",
      " 17  FG3_PCT_away      1241 non-null   float64\n",
      " 18  AST_away          1241 non-null   float64\n",
      " 19  REB_away          1241 non-null   float64\n",
      " 20  HOME_TEAM_WINS    1241 non-null   int64  \n",
      "dtypes: float64(12), int64(7), object(2)\n",
      "memory usage: 213.3+ KB\n"
     ]
    }
   ],
   "source": [
    "df.info()"
   ]
  },
  {
   "cell_type": "code",
   "execution_count": 4,
   "metadata": {},
   "outputs": [
    {
     "data": {
      "text/html": [
       "<div>\n",
       "<style scoped>\n",
       "    .dataframe tbody tr th:only-of-type {\n",
       "        vertical-align: middle;\n",
       "    }\n",
       "\n",
       "    .dataframe tbody tr th {\n",
       "        vertical-align: top;\n",
       "    }\n",
       "\n",
       "    .dataframe thead th {\n",
       "        text-align: right;\n",
       "    }\n",
       "</style>\n",
       "<table border=\"1\" class=\"dataframe\">\n",
       "  <thead>\n",
       "    <tr style=\"text-align: right;\">\n",
       "      <th></th>\n",
       "      <th>GAME_ID</th>\n",
       "      <th>HOME_TEAM_ID</th>\n",
       "      <th>VISITOR_TEAM_ID</th>\n",
       "      <th>SEASON</th>\n",
       "      <th>TEAM_ID_home</th>\n",
       "      <th>PTS_home</th>\n",
       "      <th>FG_PCT_home</th>\n",
       "      <th>FT_PCT_home</th>\n",
       "      <th>FG3_PCT_home</th>\n",
       "      <th>AST_home</th>\n",
       "      <th>REB_home</th>\n",
       "      <th>TEAM_ID_away</th>\n",
       "      <th>PTS_away</th>\n",
       "      <th>FG_PCT_away</th>\n",
       "      <th>FT_PCT_away</th>\n",
       "      <th>FG3_PCT_away</th>\n",
       "      <th>AST_away</th>\n",
       "      <th>REB_away</th>\n",
       "      <th>HOME_TEAM_WINS</th>\n",
       "    </tr>\n",
       "  </thead>\n",
       "  <tbody>\n",
       "    <tr>\n",
       "      <th>count</th>\n",
       "      <td>1.241000e+03</td>\n",
       "      <td>1.241000e+03</td>\n",
       "      <td>1.241000e+03</td>\n",
       "      <td>1241.0</td>\n",
       "      <td>1.241000e+03</td>\n",
       "      <td>1241.000000</td>\n",
       "      <td>1241.000000</td>\n",
       "      <td>1241.000000</td>\n",
       "      <td>1241.000000</td>\n",
       "      <td>1241.000000</td>\n",
       "      <td>1241.000000</td>\n",
       "      <td>1.241000e+03</td>\n",
       "      <td>1241.000000</td>\n",
       "      <td>1241.000000</td>\n",
       "      <td>1241.000000</td>\n",
       "      <td>1241.000000</td>\n",
       "      <td>1241.000000</td>\n",
       "      <td>1241.000000</td>\n",
       "      <td>1241.000000</td>\n",
       "    </tr>\n",
       "    <tr>\n",
       "      <th>mean</th>\n",
       "      <td>2.247261e+07</td>\n",
       "      <td>1.610613e+09</td>\n",
       "      <td>1.610613e+09</td>\n",
       "      <td>2019.0</td>\n",
       "      <td>1.610613e+09</td>\n",
       "      <td>112.274778</td>\n",
       "      <td>0.463043</td>\n",
       "      <td>0.769757</td>\n",
       "      <td>0.359782</td>\n",
       "      <td>24.710717</td>\n",
       "      <td>45.438356</td>\n",
       "      <td>1.610613e+09</td>\n",
       "      <td>110.466559</td>\n",
       "      <td>0.455907</td>\n",
       "      <td>0.771137</td>\n",
       "      <td>0.353089</td>\n",
       "      <td>23.791297</td>\n",
       "      <td>44.197421</td>\n",
       "      <td>0.536664</td>\n",
       "    </tr>\n",
       "    <tr>\n",
       "      <th>std</th>\n",
       "      <td>5.922460e+06</td>\n",
       "      <td>8.505847e+00</td>\n",
       "      <td>8.505253e+00</td>\n",
       "      <td>0.0</td>\n",
       "      <td>8.505847e+00</td>\n",
       "      <td>12.781012</td>\n",
       "      <td>0.056152</td>\n",
       "      <td>0.098386</td>\n",
       "      <td>0.085668</td>\n",
       "      <td>4.850270</td>\n",
       "      <td>6.845032</td>\n",
       "      <td>8.505253e+00</td>\n",
       "      <td>12.447984</td>\n",
       "      <td>0.054403</td>\n",
       "      <td>0.102825</td>\n",
       "      <td>0.084250</td>\n",
       "      <td>4.851417</td>\n",
       "      <td>6.680293</td>\n",
       "      <td>0.498855</td>\n",
       "    </tr>\n",
       "    <tr>\n",
       "      <th>min</th>\n",
       "      <td>1.190000e+07</td>\n",
       "      <td>1.610613e+09</td>\n",
       "      <td>1.610613e+09</td>\n",
       "      <td>2019.0</td>\n",
       "      <td>1.610613e+09</td>\n",
       "      <td>68.000000</td>\n",
       "      <td>0.269000</td>\n",
       "      <td>0.400000</td>\n",
       "      <td>0.118000</td>\n",
       "      <td>11.000000</td>\n",
       "      <td>24.000000</td>\n",
       "      <td>1.610613e+09</td>\n",
       "      <td>70.000000</td>\n",
       "      <td>0.308000</td>\n",
       "      <td>0.375000</td>\n",
       "      <td>0.094000</td>\n",
       "      <td>10.000000</td>\n",
       "      <td>25.000000</td>\n",
       "      <td>0.000000</td>\n",
       "    </tr>\n",
       "    <tr>\n",
       "      <th>25%</th>\n",
       "      <td>2.190021e+07</td>\n",
       "      <td>1.610613e+09</td>\n",
       "      <td>1.610613e+09</td>\n",
       "      <td>2019.0</td>\n",
       "      <td>1.610613e+09</td>\n",
       "      <td>104.000000</td>\n",
       "      <td>0.425000</td>\n",
       "      <td>0.706000</td>\n",
       "      <td>0.300000</td>\n",
       "      <td>21.000000</td>\n",
       "      <td>41.000000</td>\n",
       "      <td>1.610613e+09</td>\n",
       "      <td>102.000000</td>\n",
       "      <td>0.418000</td>\n",
       "      <td>0.706000</td>\n",
       "      <td>0.297000</td>\n",
       "      <td>20.000000</td>\n",
       "      <td>40.000000</td>\n",
       "      <td>0.000000</td>\n",
       "    </tr>\n",
       "    <tr>\n",
       "      <th>50%</th>\n",
       "      <td>2.190052e+07</td>\n",
       "      <td>1.610613e+09</td>\n",
       "      <td>1.610613e+09</td>\n",
       "      <td>2019.0</td>\n",
       "      <td>1.610613e+09</td>\n",
       "      <td>112.000000</td>\n",
       "      <td>0.462000</td>\n",
       "      <td>0.778000</td>\n",
       "      <td>0.359000</td>\n",
       "      <td>25.000000</td>\n",
       "      <td>45.000000</td>\n",
       "      <td>1.610613e+09</td>\n",
       "      <td>110.000000</td>\n",
       "      <td>0.455000</td>\n",
       "      <td>0.774000</td>\n",
       "      <td>0.353000</td>\n",
       "      <td>24.000000</td>\n",
       "      <td>44.000000</td>\n",
       "      <td>1.000000</td>\n",
       "    </tr>\n",
       "    <tr>\n",
       "      <th>75%</th>\n",
       "      <td>2.190083e+07</td>\n",
       "      <td>1.610613e+09</td>\n",
       "      <td>1.610613e+09</td>\n",
       "      <td>2019.0</td>\n",
       "      <td>1.610613e+09</td>\n",
       "      <td>120.000000</td>\n",
       "      <td>0.505000</td>\n",
       "      <td>0.838000</td>\n",
       "      <td>0.417000</td>\n",
       "      <td>28.000000</td>\n",
       "      <td>50.000000</td>\n",
       "      <td>1.610613e+09</td>\n",
       "      <td>119.000000</td>\n",
       "      <td>0.494000</td>\n",
       "      <td>0.840000</td>\n",
       "      <td>0.406000</td>\n",
       "      <td>27.000000</td>\n",
       "      <td>48.000000</td>\n",
       "      <td>1.000000</td>\n",
       "    </tr>\n",
       "    <tr>\n",
       "      <th>max</th>\n",
       "      <td>5.190011e+07</td>\n",
       "      <td>1.610613e+09</td>\n",
       "      <td>1.610613e+09</td>\n",
       "      <td>2019.0</td>\n",
       "      <td>1.610613e+09</td>\n",
       "      <td>158.000000</td>\n",
       "      <td>0.633000</td>\n",
       "      <td>1.000000</td>\n",
       "      <td>0.629000</td>\n",
       "      <td>43.000000</td>\n",
       "      <td>67.000000</td>\n",
       "      <td>1.610613e+09</td>\n",
       "      <td>159.000000</td>\n",
       "      <td>0.674000</td>\n",
       "      <td>1.000000</td>\n",
       "      <td>0.680000</td>\n",
       "      <td>40.000000</td>\n",
       "      <td>65.000000</td>\n",
       "      <td>1.000000</td>\n",
       "    </tr>\n",
       "  </tbody>\n",
       "</table>\n",
       "</div>"
      ],
      "text/plain": [
       "            GAME_ID  HOME_TEAM_ID  VISITOR_TEAM_ID  SEASON  TEAM_ID_home  \\\n",
       "count  1.241000e+03  1.241000e+03     1.241000e+03  1241.0  1.241000e+03   \n",
       "mean   2.247261e+07  1.610613e+09     1.610613e+09  2019.0  1.610613e+09   \n",
       "std    5.922460e+06  8.505847e+00     8.505253e+00     0.0  8.505847e+00   \n",
       "min    1.190000e+07  1.610613e+09     1.610613e+09  2019.0  1.610613e+09   \n",
       "25%    2.190021e+07  1.610613e+09     1.610613e+09  2019.0  1.610613e+09   \n",
       "50%    2.190052e+07  1.610613e+09     1.610613e+09  2019.0  1.610613e+09   \n",
       "75%    2.190083e+07  1.610613e+09     1.610613e+09  2019.0  1.610613e+09   \n",
       "max    5.190011e+07  1.610613e+09     1.610613e+09  2019.0  1.610613e+09   \n",
       "\n",
       "          PTS_home  FG_PCT_home  FT_PCT_home  FG3_PCT_home     AST_home  \\\n",
       "count  1241.000000  1241.000000  1241.000000   1241.000000  1241.000000   \n",
       "mean    112.274778     0.463043     0.769757      0.359782    24.710717   \n",
       "std      12.781012     0.056152     0.098386      0.085668     4.850270   \n",
       "min      68.000000     0.269000     0.400000      0.118000    11.000000   \n",
       "25%     104.000000     0.425000     0.706000      0.300000    21.000000   \n",
       "50%     112.000000     0.462000     0.778000      0.359000    25.000000   \n",
       "75%     120.000000     0.505000     0.838000      0.417000    28.000000   \n",
       "max     158.000000     0.633000     1.000000      0.629000    43.000000   \n",
       "\n",
       "          REB_home  TEAM_ID_away     PTS_away  FG_PCT_away  FT_PCT_away  \\\n",
       "count  1241.000000  1.241000e+03  1241.000000  1241.000000  1241.000000   \n",
       "mean     45.438356  1.610613e+09   110.466559     0.455907     0.771137   \n",
       "std       6.845032  8.505253e+00    12.447984     0.054403     0.102825   \n",
       "min      24.000000  1.610613e+09    70.000000     0.308000     0.375000   \n",
       "25%      41.000000  1.610613e+09   102.000000     0.418000     0.706000   \n",
       "50%      45.000000  1.610613e+09   110.000000     0.455000     0.774000   \n",
       "75%      50.000000  1.610613e+09   119.000000     0.494000     0.840000   \n",
       "max      67.000000  1.610613e+09   159.000000     0.674000     1.000000   \n",
       "\n",
       "       FG3_PCT_away     AST_away     REB_away  HOME_TEAM_WINS  \n",
       "count   1241.000000  1241.000000  1241.000000     1241.000000  \n",
       "mean       0.353089    23.791297    44.197421        0.536664  \n",
       "std        0.084250     4.851417     6.680293        0.498855  \n",
       "min        0.094000    10.000000    25.000000        0.000000  \n",
       "25%        0.297000    20.000000    40.000000        0.000000  \n",
       "50%        0.353000    24.000000    44.000000        1.000000  \n",
       "75%        0.406000    27.000000    48.000000        1.000000  \n",
       "max        0.680000    40.000000    65.000000        1.000000  "
      ]
     },
     "execution_count": 4,
     "metadata": {},
     "output_type": "execute_result"
    }
   ],
   "source": [
    "df.describe()"
   ]
  },
  {
   "cell_type": "code",
   "execution_count": 5,
   "metadata": {},
   "outputs": [
    {
     "data": {
      "text/html": [
       "<div>\n",
       "<style scoped>\n",
       "    .dataframe tbody tr th:only-of-type {\n",
       "        vertical-align: middle;\n",
       "    }\n",
       "\n",
       "    .dataframe tbody tr th {\n",
       "        vertical-align: top;\n",
       "    }\n",
       "\n",
       "    .dataframe thead th {\n",
       "        text-align: right;\n",
       "    }\n",
       "</style>\n",
       "<table border=\"1\" class=\"dataframe\">\n",
       "  <thead>\n",
       "    <tr style=\"text-align: right;\">\n",
       "      <th></th>\n",
       "      <th>GAME_DATE_EST</th>\n",
       "      <th>GAME_ID</th>\n",
       "      <th>GAME_STATUS_TEXT</th>\n",
       "      <th>HOME_TEAM_ID</th>\n",
       "      <th>VISITOR_TEAM_ID</th>\n",
       "      <th>SEASON</th>\n",
       "      <th>TEAM_ID_home</th>\n",
       "      <th>PTS_home</th>\n",
       "      <th>FG_PCT_home</th>\n",
       "      <th>FT_PCT_home</th>\n",
       "      <th>...</th>\n",
       "      <th>AST_home</th>\n",
       "      <th>REB_home</th>\n",
       "      <th>TEAM_ID_away</th>\n",
       "      <th>PTS_away</th>\n",
       "      <th>FG_PCT_away</th>\n",
       "      <th>FT_PCT_away</th>\n",
       "      <th>FG3_PCT_away</th>\n",
       "      <th>AST_away</th>\n",
       "      <th>REB_away</th>\n",
       "      <th>HOME_TEAM_WINS</th>\n",
       "    </tr>\n",
       "  </thead>\n",
       "  <tbody>\n",
       "    <tr>\n",
       "      <th>1206</th>\n",
       "      <td>2020-10-11</td>\n",
       "      <td>41900406</td>\n",
       "      <td>Final</td>\n",
       "      <td>1610612748</td>\n",
       "      <td>1610612747</td>\n",
       "      <td>2019</td>\n",
       "      <td>1610612748</td>\n",
       "      <td>93.0</td>\n",
       "      <td>0.443</td>\n",
       "      <td>0.591</td>\n",
       "      <td>...</td>\n",
       "      <td>25.0</td>\n",
       "      <td>41.0</td>\n",
       "      <td>1610612747</td>\n",
       "      <td>106.0</td>\n",
       "      <td>0.483</td>\n",
       "      <td>0.643</td>\n",
       "      <td>0.314</td>\n",
       "      <td>23.0</td>\n",
       "      <td>46.0</td>\n",
       "      <td>0</td>\n",
       "    </tr>\n",
       "    <tr>\n",
       "      <th>1207</th>\n",
       "      <td>2020-10-09</td>\n",
       "      <td>41900405</td>\n",
       "      <td>Final</td>\n",
       "      <td>1610612747</td>\n",
       "      <td>1610612748</td>\n",
       "      <td>2019</td>\n",
       "      <td>1610612747</td>\n",
       "      <td>108.0</td>\n",
       "      <td>0.463</td>\n",
       "      <td>0.857</td>\n",
       "      <td>...</td>\n",
       "      <td>21.0</td>\n",
       "      <td>41.0</td>\n",
       "      <td>1610612748</td>\n",
       "      <td>111.0</td>\n",
       "      <td>0.458</td>\n",
       "      <td>0.955</td>\n",
       "      <td>0.424</td>\n",
       "      <td>26.0</td>\n",
       "      <td>35.0</td>\n",
       "      <td>0</td>\n",
       "    </tr>\n",
       "    <tr>\n",
       "      <th>1208</th>\n",
       "      <td>2020-10-06</td>\n",
       "      <td>41900404</td>\n",
       "      <td>Final</td>\n",
       "      <td>1610612748</td>\n",
       "      <td>1610612747</td>\n",
       "      <td>2019</td>\n",
       "      <td>1610612748</td>\n",
       "      <td>96.0</td>\n",
       "      <td>0.427</td>\n",
       "      <td>0.808</td>\n",
       "      <td>...</td>\n",
       "      <td>18.0</td>\n",
       "      <td>39.0</td>\n",
       "      <td>1610612747</td>\n",
       "      <td>102.0</td>\n",
       "      <td>0.443</td>\n",
       "      <td>0.857</td>\n",
       "      <td>0.359</td>\n",
       "      <td>25.0</td>\n",
       "      <td>42.0</td>\n",
       "      <td>0</td>\n",
       "    </tr>\n",
       "    <tr>\n",
       "      <th>1209</th>\n",
       "      <td>2020-10-04</td>\n",
       "      <td>41900403</td>\n",
       "      <td>Final</td>\n",
       "      <td>1610612748</td>\n",
       "      <td>1610612747</td>\n",
       "      <td>2019</td>\n",
       "      <td>1610612748</td>\n",
       "      <td>115.0</td>\n",
       "      <td>0.513</td>\n",
       "      <td>0.913</td>\n",
       "      <td>...</td>\n",
       "      <td>25.0</td>\n",
       "      <td>37.0</td>\n",
       "      <td>1610612747</td>\n",
       "      <td>104.0</td>\n",
       "      <td>0.430</td>\n",
       "      <td>0.759</td>\n",
       "      <td>0.333</td>\n",
       "      <td>23.0</td>\n",
       "      <td>43.0</td>\n",
       "      <td>1</td>\n",
       "    </tr>\n",
       "    <tr>\n",
       "      <th>1210</th>\n",
       "      <td>2020-10-02</td>\n",
       "      <td>41900402</td>\n",
       "      <td>Final</td>\n",
       "      <td>1610612747</td>\n",
       "      <td>1610612748</td>\n",
       "      <td>2019</td>\n",
       "      <td>1610612747</td>\n",
       "      <td>124.0</td>\n",
       "      <td>0.505</td>\n",
       "      <td>0.588</td>\n",
       "      <td>...</td>\n",
       "      <td>32.0</td>\n",
       "      <td>44.0</td>\n",
       "      <td>1610612748</td>\n",
       "      <td>114.0</td>\n",
       "      <td>0.507</td>\n",
       "      <td>0.912</td>\n",
       "      <td>0.407</td>\n",
       "      <td>29.0</td>\n",
       "      <td>37.0</td>\n",
       "      <td>1</td>\n",
       "    </tr>\n",
       "  </tbody>\n",
       "</table>\n",
       "<p>5 rows × 21 columns</p>\n",
       "</div>"
      ],
      "text/plain": [
       "     GAME_DATE_EST   GAME_ID GAME_STATUS_TEXT  HOME_TEAM_ID  VISITOR_TEAM_ID  \\\n",
       "1206    2020-10-11  41900406            Final    1610612748       1610612747   \n",
       "1207    2020-10-09  41900405            Final    1610612747       1610612748   \n",
       "1208    2020-10-06  41900404            Final    1610612748       1610612747   \n",
       "1209    2020-10-04  41900403            Final    1610612748       1610612747   \n",
       "1210    2020-10-02  41900402            Final    1610612747       1610612748   \n",
       "\n",
       "      SEASON  TEAM_ID_home  PTS_home  FG_PCT_home  FT_PCT_home  ...  AST_home  \\\n",
       "1206    2019    1610612748      93.0        0.443        0.591  ...      25.0   \n",
       "1207    2019    1610612747     108.0        0.463        0.857  ...      21.0   \n",
       "1208    2019    1610612748      96.0        0.427        0.808  ...      18.0   \n",
       "1209    2019    1610612748     115.0        0.513        0.913  ...      25.0   \n",
       "1210    2019    1610612747     124.0        0.505        0.588  ...      32.0   \n",
       "\n",
       "      REB_home  TEAM_ID_away  PTS_away  FG_PCT_away  FT_PCT_away  \\\n",
       "1206      41.0    1610612747     106.0        0.483        0.643   \n",
       "1207      41.0    1610612748     111.0        0.458        0.955   \n",
       "1208      39.0    1610612747     102.0        0.443        0.857   \n",
       "1209      37.0    1610612747     104.0        0.430        0.759   \n",
       "1210      44.0    1610612748     114.0        0.507        0.912   \n",
       "\n",
       "      FG3_PCT_away  AST_away  REB_away  HOME_TEAM_WINS  \n",
       "1206         0.314      23.0      46.0               0  \n",
       "1207         0.424      26.0      35.0               0  \n",
       "1208         0.359      25.0      42.0               0  \n",
       "1209         0.333      23.0      43.0               1  \n",
       "1210         0.407      29.0      37.0               1  \n",
       "\n",
       "[5 rows x 21 columns]"
      ]
     },
     "execution_count": 5,
     "metadata": {},
     "output_type": "execute_result"
    }
   ],
   "source": [
    "df.head()"
   ]
  },
  {
   "cell_type": "markdown",
   "metadata": {},
   "source": [
    "## Initial preprocessing and cleaning"
   ]
  },
  {
   "cell_type": "markdown",
   "metadata": {},
   "source": [
    "The dataset doesn't have any na values so it's unnecessary to drop columns for that reason. All games are final which means we don't need to drop partially completed games. At the same time, the columns GAME_DATE_EST, GAME_ID, GAME_STATUS_TEXT, HOME_TEAM_ID, VISITOR_TEAM_ID, SEASON, TEAM_ID_home, PTS_home, TEAM_ID_away, and PTS_away aren't used so they will all be dropped."
   ]
  },
  {
   "cell_type": "code",
   "execution_count": 6,
   "metadata": {},
   "outputs": [
    {
     "data": {
      "text/plain": [
       "GAME_DATE_EST       0\n",
       "GAME_ID             0\n",
       "GAME_STATUS_TEXT    0\n",
       "HOME_TEAM_ID        0\n",
       "VISITOR_TEAM_ID     0\n",
       "SEASON              0\n",
       "TEAM_ID_home        0\n",
       "PTS_home            0\n",
       "FG_PCT_home         0\n",
       "FT_PCT_home         0\n",
       "FG3_PCT_home        0\n",
       "AST_home            0\n",
       "REB_home            0\n",
       "TEAM_ID_away        0\n",
       "PTS_away            0\n",
       "FG_PCT_away         0\n",
       "FT_PCT_away         0\n",
       "FG3_PCT_away        0\n",
       "AST_away            0\n",
       "REB_away            0\n",
       "HOME_TEAM_WINS      0\n",
       "dtype: int64"
      ]
     },
     "execution_count": 6,
     "metadata": {},
     "output_type": "execute_result"
    }
   ],
   "source": [
    "df.isna().sum() # This also Shows that data doesn't have NA values."
   ]
  },
  {
   "cell_type": "code",
   "execution_count": 7,
   "metadata": {},
   "outputs": [],
   "source": [
    "#Create new rebound percentage columns\n",
    "df['REB_PCT_away'] = df['REB_away'] / (df['REB_away'] + df['REB_home'])\n",
    "df['REB_PCT_home'] = df['REB_home'] / (df['REB_away'] + df['REB_home'])\n",
    "#Create new point diffirential column for linear regression\n",
    "df['PTS_DIFF_home'] = df['PTS_home'] - df['PTS_away']"
   ]
  },
  {
   "cell_type": "code",
   "execution_count": 8,
   "metadata": {},
   "outputs": [],
   "source": [
    "col_to_drop = ['GAME_ID', 'GAME_DATE_EST', 'GAME_STATUS_TEXT', 'PTS_home', 'PTS_away', 'HOME_TEAM_ID', 'VISITOR_TEAM_ID', 'SEASON', 'TEAM_ID_home', 'TEAM_ID_away']\n",
    "df.drop(col_to_drop, axis = 1, inplace=True)  #Dropping the useless/not relevant columns. "
   ]
  },
  {
   "cell_type": "code",
   "execution_count": 9,
   "metadata": {},
   "outputs": [
    {
     "data": {
      "text/html": [
       "<div>\n",
       "<style scoped>\n",
       "    .dataframe tbody tr th:only-of-type {\n",
       "        vertical-align: middle;\n",
       "    }\n",
       "\n",
       "    .dataframe tbody tr th {\n",
       "        vertical-align: top;\n",
       "    }\n",
       "\n",
       "    .dataframe thead th {\n",
       "        text-align: right;\n",
       "    }\n",
       "</style>\n",
       "<table border=\"1\" class=\"dataframe\">\n",
       "  <thead>\n",
       "    <tr style=\"text-align: right;\">\n",
       "      <th></th>\n",
       "      <th>FG_PCT_home</th>\n",
       "      <th>FT_PCT_home</th>\n",
       "      <th>FG3_PCT_home</th>\n",
       "      <th>AST_home</th>\n",
       "      <th>REB_home</th>\n",
       "      <th>FG_PCT_away</th>\n",
       "      <th>FT_PCT_away</th>\n",
       "      <th>FG3_PCT_away</th>\n",
       "      <th>AST_away</th>\n",
       "      <th>REB_away</th>\n",
       "      <th>HOME_TEAM_WINS</th>\n",
       "      <th>REB_PCT_away</th>\n",
       "      <th>REB_PCT_home</th>\n",
       "      <th>PTS_DIFF_home</th>\n",
       "    </tr>\n",
       "  </thead>\n",
       "  <tbody>\n",
       "    <tr>\n",
       "      <th>1206</th>\n",
       "      <td>0.443</td>\n",
       "      <td>0.591</td>\n",
       "      <td>0.357</td>\n",
       "      <td>25.0</td>\n",
       "      <td>41.0</td>\n",
       "      <td>0.483</td>\n",
       "      <td>0.643</td>\n",
       "      <td>0.314</td>\n",
       "      <td>23.0</td>\n",
       "      <td>46.0</td>\n",
       "      <td>0</td>\n",
       "      <td>0.528736</td>\n",
       "      <td>0.471264</td>\n",
       "      <td>-13.0</td>\n",
       "    </tr>\n",
       "    <tr>\n",
       "      <th>1207</th>\n",
       "      <td>0.463</td>\n",
       "      <td>0.857</td>\n",
       "      <td>0.368</td>\n",
       "      <td>21.0</td>\n",
       "      <td>41.0</td>\n",
       "      <td>0.458</td>\n",
       "      <td>0.955</td>\n",
       "      <td>0.424</td>\n",
       "      <td>26.0</td>\n",
       "      <td>35.0</td>\n",
       "      <td>0</td>\n",
       "      <td>0.460526</td>\n",
       "      <td>0.539474</td>\n",
       "      <td>-3.0</td>\n",
       "    </tr>\n",
       "    <tr>\n",
       "      <th>1208</th>\n",
       "      <td>0.427</td>\n",
       "      <td>0.808</td>\n",
       "      <td>0.344</td>\n",
       "      <td>18.0</td>\n",
       "      <td>39.0</td>\n",
       "      <td>0.443</td>\n",
       "      <td>0.857</td>\n",
       "      <td>0.359</td>\n",
       "      <td>25.0</td>\n",
       "      <td>42.0</td>\n",
       "      <td>0</td>\n",
       "      <td>0.518519</td>\n",
       "      <td>0.481481</td>\n",
       "      <td>-6.0</td>\n",
       "    </tr>\n",
       "    <tr>\n",
       "      <th>1209</th>\n",
       "      <td>0.513</td>\n",
       "      <td>0.913</td>\n",
       "      <td>0.353</td>\n",
       "      <td>25.0</td>\n",
       "      <td>37.0</td>\n",
       "      <td>0.430</td>\n",
       "      <td>0.759</td>\n",
       "      <td>0.333</td>\n",
       "      <td>23.0</td>\n",
       "      <td>43.0</td>\n",
       "      <td>1</td>\n",
       "      <td>0.537500</td>\n",
       "      <td>0.462500</td>\n",
       "      <td>11.0</td>\n",
       "    </tr>\n",
       "    <tr>\n",
       "      <th>1210</th>\n",
       "      <td>0.505</td>\n",
       "      <td>0.588</td>\n",
       "      <td>0.340</td>\n",
       "      <td>32.0</td>\n",
       "      <td>44.0</td>\n",
       "      <td>0.507</td>\n",
       "      <td>0.912</td>\n",
       "      <td>0.407</td>\n",
       "      <td>29.0</td>\n",
       "      <td>37.0</td>\n",
       "      <td>1</td>\n",
       "      <td>0.456790</td>\n",
       "      <td>0.543210</td>\n",
       "      <td>10.0</td>\n",
       "    </tr>\n",
       "  </tbody>\n",
       "</table>\n",
       "</div>"
      ],
      "text/plain": [
       "      FG_PCT_home  FT_PCT_home  FG3_PCT_home  AST_home  REB_home  FG_PCT_away  \\\n",
       "1206        0.443        0.591         0.357      25.0      41.0        0.483   \n",
       "1207        0.463        0.857         0.368      21.0      41.0        0.458   \n",
       "1208        0.427        0.808         0.344      18.0      39.0        0.443   \n",
       "1209        0.513        0.913         0.353      25.0      37.0        0.430   \n",
       "1210        0.505        0.588         0.340      32.0      44.0        0.507   \n",
       "\n",
       "      FT_PCT_away  FG3_PCT_away  AST_away  REB_away  HOME_TEAM_WINS  \\\n",
       "1206        0.643         0.314      23.0      46.0               0   \n",
       "1207        0.955         0.424      26.0      35.0               0   \n",
       "1208        0.857         0.359      25.0      42.0               0   \n",
       "1209        0.759         0.333      23.0      43.0               1   \n",
       "1210        0.912         0.407      29.0      37.0               1   \n",
       "\n",
       "      REB_PCT_away  REB_PCT_home  PTS_DIFF_home  \n",
       "1206      0.528736      0.471264          -13.0  \n",
       "1207      0.460526      0.539474           -3.0  \n",
       "1208      0.518519      0.481481           -6.0  \n",
       "1209      0.537500      0.462500           11.0  \n",
       "1210      0.456790      0.543210           10.0  "
      ]
     },
     "execution_count": 9,
     "metadata": {},
     "output_type": "execute_result"
    }
   ],
   "source": [
    "df.head()"
   ]
  },
  {
   "cell_type": "markdown",
   "metadata": {},
   "source": [
    "## Exploration and Visualization\n",
    "We took a look at the data to see which predictors correlated well with the outcome of the game and created some graphs to look at how certain predictors factored into who ended up winning."
   ]
  },
  {
   "cell_type": "code",
   "execution_count": 10,
   "metadata": {},
   "outputs": [
    {
     "name": "stdout",
     "output_type": "stream",
     "text": [
      "<class 'pandas.core.frame.DataFrame'>\n",
      "Int64Index: 1241 entries, 1206 to 17677\n",
      "Data columns (total 14 columns):\n",
      " #   Column          Non-Null Count  Dtype  \n",
      "---  ------          --------------  -----  \n",
      " 0   FG_PCT_home     1241 non-null   float64\n",
      " 1   FT_PCT_home     1241 non-null   float64\n",
      " 2   FG3_PCT_home    1241 non-null   float64\n",
      " 3   AST_home        1241 non-null   float64\n",
      " 4   REB_home        1241 non-null   float64\n",
      " 5   FG_PCT_away     1241 non-null   float64\n",
      " 6   FT_PCT_away     1241 non-null   float64\n",
      " 7   FG3_PCT_away    1241 non-null   float64\n",
      " 8   AST_away        1241 non-null   float64\n",
      " 9   REB_away        1241 non-null   float64\n",
      " 10  HOME_TEAM_WINS  1241 non-null   int64  \n",
      " 11  REB_PCT_away    1241 non-null   float64\n",
      " 12  REB_PCT_home    1241 non-null   float64\n",
      " 13  PTS_DIFF_home   1241 non-null   float64\n",
      "dtypes: float64(13), int64(1)\n",
      "memory usage: 145.4 KB\n"
     ]
    }
   ],
   "source": [
    "df.info() # Basic data exploration"
   ]
  },
  {
   "cell_type": "code",
   "execution_count": 11,
   "metadata": {},
   "outputs": [
    {
     "data": {
      "text/html": [
       "<div>\n",
       "<style scoped>\n",
       "    .dataframe tbody tr th:only-of-type {\n",
       "        vertical-align: middle;\n",
       "    }\n",
       "\n",
       "    .dataframe tbody tr th {\n",
       "        vertical-align: top;\n",
       "    }\n",
       "\n",
       "    .dataframe thead th {\n",
       "        text-align: right;\n",
       "    }\n",
       "</style>\n",
       "<table border=\"1\" class=\"dataframe\">\n",
       "  <thead>\n",
       "    <tr style=\"text-align: right;\">\n",
       "      <th></th>\n",
       "      <th>FG_PCT_home</th>\n",
       "      <th>FT_PCT_home</th>\n",
       "      <th>FG3_PCT_home</th>\n",
       "      <th>AST_home</th>\n",
       "      <th>REB_home</th>\n",
       "      <th>FG_PCT_away</th>\n",
       "      <th>FT_PCT_away</th>\n",
       "      <th>FG3_PCT_away</th>\n",
       "      <th>AST_away</th>\n",
       "      <th>REB_away</th>\n",
       "      <th>HOME_TEAM_WINS</th>\n",
       "      <th>REB_PCT_away</th>\n",
       "      <th>REB_PCT_home</th>\n",
       "      <th>PTS_DIFF_home</th>\n",
       "    </tr>\n",
       "  </thead>\n",
       "  <tbody>\n",
       "    <tr>\n",
       "      <th>1206</th>\n",
       "      <td>0.443</td>\n",
       "      <td>0.591</td>\n",
       "      <td>0.357</td>\n",
       "      <td>25.0</td>\n",
       "      <td>41.0</td>\n",
       "      <td>0.483</td>\n",
       "      <td>0.643</td>\n",
       "      <td>0.314</td>\n",
       "      <td>23.0</td>\n",
       "      <td>46.0</td>\n",
       "      <td>0</td>\n",
       "      <td>0.528736</td>\n",
       "      <td>0.471264</td>\n",
       "      <td>-13.0</td>\n",
       "    </tr>\n",
       "    <tr>\n",
       "      <th>1207</th>\n",
       "      <td>0.463</td>\n",
       "      <td>0.857</td>\n",
       "      <td>0.368</td>\n",
       "      <td>21.0</td>\n",
       "      <td>41.0</td>\n",
       "      <td>0.458</td>\n",
       "      <td>0.955</td>\n",
       "      <td>0.424</td>\n",
       "      <td>26.0</td>\n",
       "      <td>35.0</td>\n",
       "      <td>0</td>\n",
       "      <td>0.460526</td>\n",
       "      <td>0.539474</td>\n",
       "      <td>-3.0</td>\n",
       "    </tr>\n",
       "    <tr>\n",
       "      <th>1208</th>\n",
       "      <td>0.427</td>\n",
       "      <td>0.808</td>\n",
       "      <td>0.344</td>\n",
       "      <td>18.0</td>\n",
       "      <td>39.0</td>\n",
       "      <td>0.443</td>\n",
       "      <td>0.857</td>\n",
       "      <td>0.359</td>\n",
       "      <td>25.0</td>\n",
       "      <td>42.0</td>\n",
       "      <td>0</td>\n",
       "      <td>0.518519</td>\n",
       "      <td>0.481481</td>\n",
       "      <td>-6.0</td>\n",
       "    </tr>\n",
       "    <tr>\n",
       "      <th>1209</th>\n",
       "      <td>0.513</td>\n",
       "      <td>0.913</td>\n",
       "      <td>0.353</td>\n",
       "      <td>25.0</td>\n",
       "      <td>37.0</td>\n",
       "      <td>0.430</td>\n",
       "      <td>0.759</td>\n",
       "      <td>0.333</td>\n",
       "      <td>23.0</td>\n",
       "      <td>43.0</td>\n",
       "      <td>1</td>\n",
       "      <td>0.537500</td>\n",
       "      <td>0.462500</td>\n",
       "      <td>11.0</td>\n",
       "    </tr>\n",
       "    <tr>\n",
       "      <th>1210</th>\n",
       "      <td>0.505</td>\n",
       "      <td>0.588</td>\n",
       "      <td>0.340</td>\n",
       "      <td>32.0</td>\n",
       "      <td>44.0</td>\n",
       "      <td>0.507</td>\n",
       "      <td>0.912</td>\n",
       "      <td>0.407</td>\n",
       "      <td>29.0</td>\n",
       "      <td>37.0</td>\n",
       "      <td>1</td>\n",
       "      <td>0.456790</td>\n",
       "      <td>0.543210</td>\n",
       "      <td>10.0</td>\n",
       "    </tr>\n",
       "  </tbody>\n",
       "</table>\n",
       "</div>"
      ],
      "text/plain": [
       "      FG_PCT_home  FT_PCT_home  FG3_PCT_home  AST_home  REB_home  FG_PCT_away  \\\n",
       "1206        0.443        0.591         0.357      25.0      41.0        0.483   \n",
       "1207        0.463        0.857         0.368      21.0      41.0        0.458   \n",
       "1208        0.427        0.808         0.344      18.0      39.0        0.443   \n",
       "1209        0.513        0.913         0.353      25.0      37.0        0.430   \n",
       "1210        0.505        0.588         0.340      32.0      44.0        0.507   \n",
       "\n",
       "      FT_PCT_away  FG3_PCT_away  AST_away  REB_away  HOME_TEAM_WINS  \\\n",
       "1206        0.643         0.314      23.0      46.0               0   \n",
       "1207        0.955         0.424      26.0      35.0               0   \n",
       "1208        0.857         0.359      25.0      42.0               0   \n",
       "1209        0.759         0.333      23.0      43.0               1   \n",
       "1210        0.912         0.407      29.0      37.0               1   \n",
       "\n",
       "      REB_PCT_away  REB_PCT_home  PTS_DIFF_home  \n",
       "1206      0.528736      0.471264          -13.0  \n",
       "1207      0.460526      0.539474           -3.0  \n",
       "1208      0.518519      0.481481           -6.0  \n",
       "1209      0.537500      0.462500           11.0  \n",
       "1210      0.456790      0.543210           10.0  "
      ]
     },
     "execution_count": 11,
     "metadata": {},
     "output_type": "execute_result"
    }
   ],
   "source": [
    "df.head()"
   ]
  },
  {
   "cell_type": "markdown",
   "metadata": {},
   "source": [
    "### Exploratory Graphs\n",
    "\n",
    "##### Histogram plots"
   ]
  },
  {
   "cell_type": "code",
   "execution_count": 12,
   "metadata": {},
   "outputs": [],
   "source": [
    "# #This pairplot shows the relationship between different field goal percentage stats.\n",
    "# sns.pairplot(df, hue='HOME_TEAM_WINS', vars=['FG_PCT_home', 'FT_PCT_home', 'FG3_PCT_home', 'FG_PCT_away', 'FT_PCT_away', 'FG3_PCT_away']);\n",
    "# #This might take some time to load based upon the size of a dataset. Comment out for now."
   ]
  },
  {
   "cell_type": "code",
   "execution_count": 13,
   "metadata": {},
   "outputs": [],
   "source": [
    "# #This pairplot shows the relationship between different rebounding and assist stats.\n",
    "# sns.pairplot(df, hue='HOME_TEAM_WINS', vars=['AST_home', 'REB_home', 'REB_PCT_home', 'AST_away', 'REB_away', 'REB_PCT_away']);\n",
    "# #This might take some time to load based upon the size of a dataset. Comment out for now."
   ]
  },
  {
   "cell_type": "markdown",
   "metadata": {},
   "source": [
    "##### Heatmap Plot"
   ]
  },
  {
   "cell_type": "code",
   "execution_count": 14,
   "metadata": {},
   "outputs": [
    {
     "data": {
      "image/png": "[encoded data removed]",
      "text/plain": [
       "<Figure size 576x432 with 2 Axes>"
      ]
     },
     "metadata": {},
     "output_type": "display_data"
    }
   ],
   "source": [
    "sns.heatmap(df.corr(),linecolor='white',linewidths=1);"
   ]
  },
  {
   "cell_type": "markdown",
   "metadata": {},
   "source": [
    "---\n",
    "# Machine Learning\n",
    "---\n",
    "### Linear Regression\n",
    "In this section, we will use linear regression to predict PTS_DIFF_home(the home team's point differential). That prediction will then be converted into win and loss predictions, compared with HOME_TEAM_WINS, and displayed as a confusion matrix so that we can compare the results with the KNN classifier model we will be using later on."
   ]
  },
  {
   "cell_type": "markdown",
   "metadata": {},
   "source": [
    "#### Training a Linear Regression Model \n",
    "Training out the regression model! We are splitting up our data into an X array and y array. The X array contains the features to train on, and the y array with the target variable. \n",
    "##### X and y arrays"
   ]
  },
  {
   "cell_type": "code",
   "execution_count": 15,
   "metadata": {},
   "outputs": [
    {
     "data": {
      "text/plain": [
       "Index(['FG_PCT_home', 'FT_PCT_home', 'FG3_PCT_home', 'AST_home', 'REB_home',\n",
       "       'FG_PCT_away', 'FT_PCT_away', 'FG3_PCT_away', 'AST_away', 'REB_away',\n",
       "       'HOME_TEAM_WINS', 'REB_PCT_away', 'REB_PCT_home', 'PTS_DIFF_home'],\n",
       "      dtype='object')"
      ]
     },
     "execution_count": 15,
     "metadata": {},
     "output_type": "execute_result"
    }
   ],
   "source": [
    "df.columns"
   ]
  },
  {
   "cell_type": "code",
   "execution_count": 16,
   "metadata": {},
   "outputs": [],
   "source": [
    "X = df.drop(['HOME_TEAM_WINS', 'PTS_DIFF_home'],axis=1) #Exclude targets\n",
    "y = df['PTS_DIFF_home']"
   ]
  },
  {
   "cell_type": "markdown",
   "metadata": {},
   "source": [
    "##### Train Test Split\n",
    "Splitting the data into a training set and a testing set. We will train out model on the training set first and then use the test set to evaluate the model."
   ]
  },
  {
   "cell_type": "code",
   "execution_count": 17,
   "metadata": {},
   "outputs": [],
   "source": [
    "X_train, X_test, y_train, y_test = train_test_split(X, y, test_size=0.4, random_state=101)"
   ]
  },
  {
   "cell_type": "markdown",
   "metadata": {},
   "source": [
    "##### Creating and Training the Model"
   ]
  },
  {
   "cell_type": "code",
   "execution_count": 18,
   "metadata": {},
   "outputs": [
    {
     "data": {
      "text/plain": [
       "LinearRegression()"
      ]
     },
     "execution_count": 18,
     "metadata": {},
     "output_type": "execute_result"
    }
   ],
   "source": [
    "lm = LinearRegression()\n",
    "lm.fit(X_train,y_train)"
   ]
  },
  {
   "cell_type": "markdown",
   "metadata": {},
   "source": [
    "##### Model Evaluation\n",
    "Evaluating the model by checking out the values of coefficients."
   ]
  },
  {
   "cell_type": "code",
   "execution_count": 19,
   "metadata": {},
   "outputs": [
    {
     "name": "stdout",
     "output_type": "stream",
     "text": [
      "-7.417938550634602\n"
     ]
    }
   ],
   "source": [
    "# print the intercept\n",
    "print(lm.intercept_)"
   ]
  },
  {
   "cell_type": "code",
   "execution_count": 20,
   "metadata": {},
   "outputs": [
    {
     "data": {
      "text/html": [
       "<div>\n",
       "<style scoped>\n",
       "    .dataframe tbody tr th:only-of-type {\n",
       "        vertical-align: middle;\n",
       "    }\n",
       "\n",
       "    .dataframe tbody tr th {\n",
       "        vertical-align: top;\n",
       "    }\n",
       "\n",
       "    .dataframe thead th {\n",
       "        text-align: right;\n",
       "    }\n",
       "</style>\n",
       "<table border=\"1\" class=\"dataframe\">\n",
       "  <thead>\n",
       "    <tr style=\"text-align: right;\">\n",
       "      <th></th>\n",
       "      <th>Coefficient</th>\n",
       "    </tr>\n",
       "  </thead>\n",
       "  <tbody>\n",
       "    <tr>\n",
       "      <th>FG_PCT_home</th>\n",
       "      <td>91.517299</td>\n",
       "    </tr>\n",
       "    <tr>\n",
       "      <th>FT_PCT_home</th>\n",
       "      <td>21.905526</td>\n",
       "    </tr>\n",
       "    <tr>\n",
       "      <th>FG3_PCT_home</th>\n",
       "      <td>29.310674</td>\n",
       "    </tr>\n",
       "    <tr>\n",
       "      <th>AST_home</th>\n",
       "      <td>0.307934</td>\n",
       "    </tr>\n",
       "    <tr>\n",
       "      <th>REB_home</th>\n",
       "      <td>0.791567</td>\n",
       "    </tr>\n",
       "    <tr>\n",
       "      <th>FG_PCT_away</th>\n",
       "      <td>-91.209891</td>\n",
       "    </tr>\n",
       "    <tr>\n",
       "      <th>FT_PCT_away</th>\n",
       "      <td>-16.903655</td>\n",
       "    </tr>\n",
       "    <tr>\n",
       "      <th>FG3_PCT_away</th>\n",
       "      <td>-23.461689</td>\n",
       "    </tr>\n",
       "    <tr>\n",
       "      <th>AST_away</th>\n",
       "      <td>-0.383673</td>\n",
       "    </tr>\n",
       "    <tr>\n",
       "      <th>REB_away</th>\n",
       "      <td>-0.714162</td>\n",
       "    </tr>\n",
       "    <tr>\n",
       "      <th>REB_PCT_away</th>\n",
       "      <td>39.364199</td>\n",
       "    </tr>\n",
       "    <tr>\n",
       "      <th>REB_PCT_home</th>\n",
       "      <td>-39.364199</td>\n",
       "    </tr>\n",
       "  </tbody>\n",
       "</table>\n",
       "</div>"
      ],
      "text/plain": [
       "              Coefficient\n",
       "FG_PCT_home     91.517299\n",
       "FT_PCT_home     21.905526\n",
       "FG3_PCT_home    29.310674\n",
       "AST_home         0.307934\n",
       "REB_home         0.791567\n",
       "FG_PCT_away    -91.209891\n",
       "FT_PCT_away    -16.903655\n",
       "FG3_PCT_away   -23.461689\n",
       "AST_away        -0.383673\n",
       "REB_away        -0.714162\n",
       "REB_PCT_away    39.364199\n",
       "REB_PCT_home   -39.364199"
      ]
     },
     "execution_count": 20,
     "metadata": {},
     "output_type": "execute_result"
    }
   ],
   "source": [
    "coeff_df = pd.DataFrame(lm.coef_,X.columns,columns=['Coefficient'])\n",
    "coeff_df"
   ]
  },
  {
   "cell_type": "markdown",
   "metadata": {},
   "source": [
    "##### Predictions from our Model"
   ]
  },
  {
   "cell_type": "code",
   "execution_count": 21,
   "metadata": {},
   "outputs": [],
   "source": [
    "predictions = lm.predict(X_test)"
   ]
  },
  {
   "cell_type": "code",
   "execution_count": 22,
   "metadata": {
    "scrolled": false
   },
   "outputs": [
    {
     "data": {
      "image/png": "[encoded data removed]",
      "text/plain": [
       "<Figure size 576x432 with 1 Axes>"
      ]
     },
     "metadata": {},
     "output_type": "display_data"
    }
   ],
   "source": [
    "plt.scatter(y=y_test, x=predictions)\n",
    "plt.ylabel('Actual')\n",
    "plt.xlabel('Predicted');"
   ]
  },
  {
   "cell_type": "markdown",
   "metadata": {},
   "source": [
    "##### Residual Histogram"
   ]
  },
  {
   "cell_type": "code",
   "execution_count": 23,
   "metadata": {},
   "outputs": [
    {
     "data": {
      "image/png": "[encoded data removed]",
      "text/plain": [
       "<Figure size 360x360 with 1 Axes>"
      ]
     },
     "metadata": {},
     "output_type": "display_data"
    }
   ],
   "source": [
    "sns.displot((y_test-predictions),bins=50, kde=True);"
   ]
  },
  {
   "cell_type": "markdown",
   "metadata": {},
   "source": [
    "#### Regression Evaluation Metrics"
   ]
  },
  {
   "cell_type": "code",
   "execution_count": 24,
   "metadata": {},
   "outputs": [
    {
     "name": "stdout",
     "output_type": "stream",
     "text": [
      "MAE: 5.689551239055863\n",
      "MSE: 49.67429680460308\n",
      "RMSE: 7.047999489543333\n"
     ]
    }
   ],
   "source": [
    "print('MAE:', metrics.mean_absolute_error(y_test, predictions))\n",
    "print('MSE:', metrics.mean_squared_error(y_test, predictions))\n",
    "print('RMSE:', np.sqrt(metrics.mean_squared_error(y_test, predictions)))"
   ]
  },
  {
   "cell_type": "markdown",
   "metadata": {},
   "source": [
    "#### Convert Results into Confusion Matrix\n",
    "For all values greater than 0 they will count as predictions of home team wins and all other values will count as predictions of away team wins. Then we will plot the results in a confusion matrix using the test values created using HOME_TEAM_WINS. This will make it easy to compare these results to the results we'll get from the KNN classifier."
   ]
  },
  {
   "cell_type": "code",
   "execution_count": 25,
   "metadata": {},
   "outputs": [],
   "source": [
    "#Convert point diffirential to binary win/loss values\n",
    "pred = (predictions > 0).astype(int)\n",
    "#Get y_test values for HOME_TEAM_WINS\n",
    "_, _, _, y_test = train_test_split(X, df['HOME_TEAM_WINS'], test_size=0.4, random_state=101)"
   ]
  },
  {
   "cell_type": "code",
   "execution_count": 26,
   "metadata": {},
   "outputs": [
    {
     "ename": "NameError",
     "evalue": "name 'best_k' is not defined",
     "output_type": "error",
     "traceback": [
      "\u001b[0;31m---------------------------------------------------------------------------\u001b[0m",
      "\u001b[0;31mNameError\u001b[0m                                 Traceback (most recent call last)",
      "\u001b[0;32m<ipython-input-26-45b95bf95203>\u001b[0m in \u001b[0;36m<module>\u001b[0;34m\u001b[0m\n\u001b[1;32m      4\u001b[0m \u001b[0mplt\u001b[0m\u001b[0;34m.\u001b[0m\u001b[0mxlabel\u001b[0m\u001b[0;34m(\u001b[0m\u001b[0;34m'Predicted'\u001b[0m\u001b[0;34m)\u001b[0m\u001b[0;34m\u001b[0m\u001b[0;34m\u001b[0m\u001b[0m\n\u001b[1;32m      5\u001b[0m \u001b[0mplt\u001b[0m\u001b[0;34m.\u001b[0m\u001b[0mylabel\u001b[0m\u001b[0;34m(\u001b[0m\u001b[0;34m'Actual'\u001b[0m\u001b[0;34m)\u001b[0m\u001b[0;34m\u001b[0m\u001b[0;34m\u001b[0m\u001b[0m\n\u001b[0;32m----> 6\u001b[0;31m \u001b[0mplt\u001b[0m\u001b[0;34m.\u001b[0m\u001b[0mtitle\u001b[0m\u001b[0;34m(\u001b[0m\u001b[0;34m'Confusion Matrix, Converted Linear Regression'\u001b[0m\u001b[0;34m.\u001b[0m\u001b[0mformat\u001b[0m\u001b[0;34m(\u001b[0m\u001b[0mbest_k\u001b[0m\u001b[0;34m)\u001b[0m\u001b[0;34m)\u001b[0m\u001b[0;34m;\u001b[0m\u001b[0;34m\u001b[0m\u001b[0;34m\u001b[0m\u001b[0m\n\u001b[0m",
      "\u001b[0;31mNameError\u001b[0m: name 'best_k' is not defined"
     ]
    },
    {
     "data": {
      "image/png": "[encoded data removed]",
      "text/plain": [
       "<Figure size 576x432 with 2 Axes>"
      ]
     },
     "metadata": {},
     "output_type": "display_data"
    }
   ],
   "source": [
    "sns.heatmap(confusion_matrix(y_test,pred), annot=True, fmt='d', cmap='coolwarm',\n",
    "            linewidth=5, xticklabels=['Away Wins', 'Home Wins'], \n",
    "            yticklabels=['Away Wins', 'Home Wins'])\n",
    "plt.xlabel('Predicted')\n",
    "plt.ylabel('Actual')\n",
    "plt.title('Confusion Matrix, Converted Linear Regression'.format(best_k));"
   ]
  },
  {
   "cell_type": "code",
   "execution_count": null,
   "metadata": {
    "scrolled": false
   },
   "outputs": [],
   "source": [
    "print(classification_report(y_test,pred))"
   ]
  },
  {
   "cell_type": "markdown",
   "metadata": {},
   "source": [
    "---\n",
    "### KNN Classifier\n",
    "In this section, we will try to predict the winner of each game using HOME_TEAM_WINS as the target and KNN classifier as our machine learning model. Then, we will display the results as a confusion matrix to allow us to compare the results with the linear regression model.\n",
    "#### KNN - Standardize the Variables"
   ]
  },
  {
   "cell_type": "code",
   "execution_count": null,
   "metadata": {},
   "outputs": [],
   "source": [
    "df.head()"
   ]
  },
  {
   "cell_type": "code",
   "execution_count": null,
   "metadata": {},
   "outputs": [],
   "source": [
    "scaler = StandardScaler()\n",
    "scaler.fit(df.drop(['HOME_TEAM_WINS', 'PTS_DIFF_home'],axis=1)) #Exclude targets"
   ]
  },
  {
   "cell_type": "code",
   "execution_count": null,
   "metadata": {},
   "outputs": [],
   "source": [
    "scaled_features = scaler.transform(df.drop(['HOME_TEAM_WINS', 'PTS_DIFF_home'],axis=1))\n",
    "scaled_features"
   ]
  },
  {
   "cell_type": "code",
   "execution_count": null,
   "metadata": {},
   "outputs": [],
   "source": [
    "df_feat = pd.DataFrame(scaled_features,columns=df.drop(['HOME_TEAM_WINS', 'PTS_DIFF_home'],axis=1).columns)\n",
    "df_feat.head()"
   ]
  },
  {
   "cell_type": "markdown",
   "metadata": {},
   "source": [
    "#### Train Test Split\n"
   ]
  },
  {
   "cell_type": "code",
   "execution_count": null,
   "metadata": {},
   "outputs": [],
   "source": [
    "X = df_feat\n",
    "y = df['HOME_TEAM_WINS']\n",
    "X_train, X_test, y_train, y_test = train_test_split(X, y, test_size=0.4, random_state=101)"
   ]
  },
  {
   "cell_type": "markdown",
   "metadata": {},
   "source": [
    "#### Using KNN\n"
   ]
  },
  {
   "cell_type": "code",
   "execution_count": null,
   "metadata": {},
   "outputs": [],
   "source": [
    "knn = KNeighborsClassifier(n_neighbors=1)\n",
    "knn.fit(X_train,y_train)\n",
    "pred = knn.predict(X_test)"
   ]
  },
  {
   "cell_type": "markdown",
   "metadata": {},
   "source": [
    "#### Predictions and Evaluations\n",
    " Evaluating the KNN model"
   ]
  },
  {
   "cell_type": "code",
   "execution_count": null,
   "metadata": {},
   "outputs": [],
   "source": [
    "sns.heatmap(confusion_matrix(y_test,pred), annot=True, fmt='d', cmap='coolwarm',\n",
    "            linewidth=5, xticklabels=['Away Wins', 'Home Wins'], \n",
    "            yticklabels=['Away Wins', 'Home Wins'])\n",
    "plt.xlabel('Predicted')\n",
    "plt.ylabel('Actual')\n",
    "plt.title('Confusion Matrix, K = 1');"
   ]
  },
  {
   "cell_type": "code",
   "execution_count": null,
   "metadata": {
    "scrolled": false
   },
   "outputs": [],
   "source": [
    "print(classification_report(y_test,pred))"
   ]
  },
  {
   "cell_type": "markdown",
   "metadata": {},
   "source": [
    "#### Choosing a K Value\n",
    "Using elbow method to pick a good K value"
   ]
  },
  {
   "cell_type": "code",
   "execution_count": null,
   "metadata": {},
   "outputs": [],
   "source": [
    "error_rate = []\n",
    "\n",
    "# Will take some time\n",
    "for i in range(1,31):\n",
    "    \n",
    "    knn = KNeighborsClassifier(n_neighbors=i)\n",
    "    knn.fit(X_train,y_train)\n",
    "    pred_i = knn.predict(X_test)\n",
    "    error_rate.append(np.mean(pred_i != y_test))"
   ]
  },
  {
   "cell_type": "code",
   "execution_count": null,
   "metadata": {},
   "outputs": [],
   "source": [
    "plt.figure(figsize=(10,6))\n",
    "plt.plot(range(1,31),error_rate,color='blue', linestyle='dashed', marker='o',\n",
    "         markerfacecolor='red', markersize=10)\n",
    "plt.title('Error Rate vs. K Value')\n",
    "plt.xlabel('K')\n",
    "plt.ylabel('Error Rate')"
   ]
  },
  {
   "cell_type": "markdown",
   "metadata": {},
   "source": [
    "We can see that starting around K>16 the error rate just tends to hover around 0.16-0.18 Let's check the classification report with that K value."
   ]
  },
  {
   "cell_type": "code",
   "execution_count": null,
   "metadata": {},
   "outputs": [],
   "source": [
    "# NOW WITH Best K value\n",
    "best_k = error_rate.index(min(error_rate)) + 1 #Use K value with min error rate\n",
    "knn = KNeighborsClassifier(n_neighbors=best_k)\n",
    "\n",
    "knn.fit(X_train,y_train)\n",
    "pred = knn.predict(X_test)"
   ]
  },
  {
   "cell_type": "code",
   "execution_count": null,
   "metadata": {},
   "outputs": [],
   "source": [
    "sns.heatmap(confusion_matrix(y_test,pred), annot=True, fmt='d', cmap='coolwarm',\n",
    "            linewidth=5, xticklabels=['Away Wins', 'Home Wins'], \n",
    "            yticklabels=['Away Wins', 'Home Wins'])\n",
    "plt.xlabel('Predicted')\n",
    "plt.ylabel('Actual')\n",
    "plt.title('Confusion Matrix, K = {}'.format(best_k));"
   ]
  },
  {
   "cell_type": "code",
   "execution_count": null,
   "metadata": {
    "scrolled": true
   },
   "outputs": [],
   "source": [
    "print(classification_report(y_test,pred))"
   ]
  }
 ],
 "metadata": {
  "kernelspec": {
   "display_name": "Python 3",
   "language": "python",
   "name": "python3"
  },
  "language_info": {
   "codemirror_mode": {
    "name": "ipython",
    "version": 3
   },
   "file_extension": ".py",
   "mimetype": "text/x-python",
   "name": "python",
   "nbconvert_exporter": "python",
   "pygments_lexer": "ipython3",
   "version": "3.8.10"
  }
 },
 "nbformat": 4,
 "nbformat_minor": 4
}
