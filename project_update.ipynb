{
 "cells": [
  {
   "cell_type": "markdown",
   "metadata": {},
   "source": [
    "## Project Update\n",
    "### Date: 06/08/2021\n",
    "### Team: Bryce Randolph, Jeannie Davis, Harsandeep Singh, Kevin Robell"
   ]
  },
  {
   "cell_type": "code",
   "execution_count": 1,
   "metadata": {},
   "outputs": [],
   "source": [
    "%matplotlib inline\n",
    "import numpy as np\n",
    "import pandas as pd\n",
    "import matplotlib.pyplot as plt\n",
    "from matplotlib import rcParams\n",
    "import seaborn as sns\n",
    "sns.set()\n",
    "rcParams['figure.figsize'] = 8,6\n",
    "sns.set_context('talk')   # 'talk' for slightly larger"
   ]
  },
  {
   "cell_type": "markdown",
   "metadata": {},
   "source": [
    "Choice of Dataset\n",
    "We decided to use the dataset at https://www.kaggle.com/nathanlauga/nba-games and we are only using the games.csv file. Drop that file in the same folder as this file to run the following code."
   ]
  },
  {
   "cell_type": "code",
   "execution_count": 4,
   "metadata": {},
   "outputs": [],
   "source": [
    "df = pd.read_csv(\"./games.csv\")\n",
    "df = df[df.SEASON == 2019]"
   ]
  },
  {
   "cell_type": "markdown",
   "metadata": {},
   "source": [
    "what it is you are going to predict\n",
    "HOME_TEAM_WINS"
   ]
  },
  {
   "cell_type": "code",
   "execution_count": 6,
   "metadata": {},
   "outputs": [
    {
     "name": "stdout",
     "output_type": "stream",
     "text": [
      "<class 'pandas.core.frame.DataFrame'>\n",
      "Int64Index: 1241 entries, 1206 to 17677\n",
      "Data columns (total 21 columns):\n",
      " #   Column            Non-Null Count  Dtype  \n",
      "---  ------            --------------  -----  \n",
      " 0   GAME_DATE_EST     1241 non-null   object \n",
      " 1   GAME_ID           1241 non-null   int64  \n",
      " 2   GAME_STATUS_TEXT  1241 non-null   object \n",
      " 3   HOME_TEAM_ID      1241 non-null   int64  \n",
      " 4   VISITOR_TEAM_ID   1241 non-null   int64  \n",
      " 5   SEASON            1241 non-null   int64  \n",
      " 6   TEAM_ID_home      1241 non-null   int64  \n",
      " 7   PTS_home          1241 non-null   float64\n",
      " 8   FG_PCT_home       1241 non-null   float64\n",
      " 9   FT_PCT_home       1241 non-null   float64\n",
      " 10  FG3_PCT_home      1241 non-null   float64\n",
      " 11  AST_home          1241 non-null   float64\n",
      " 12  REB_home          1241 non-null   float64\n",
      " 13  TEAM_ID_away      1241 non-null   int64  \n",
      " 14  PTS_away          1241 non-null   float64\n",
      " 15  FG_PCT_away       1241 non-null   float64\n",
      " 16  FT_PCT_away       1241 non-null   float64\n",
      " 17  FG3_PCT_away      1241 non-null   float64\n",
      " 18  AST_away          1241 non-null   float64\n",
      " 19  REB_away          1241 non-null   float64\n",
      " 20  HOME_TEAM_WINS    1241 non-null   int64  \n",
      "dtypes: float64(12), int64(7), object(2)\n",
      "memory usage: 213.3+ KB\n"
     ]
    }
   ],
   "source": [
    "df.info() # Basic data exploration"
   ]
  },
  {
   "cell_type": "code",
   "execution_count": 8,
   "metadata": {},
   "outputs": [
    {
     "data": {
      "text/plain": [
       "GAME_DATE_EST       0\n",
       "GAME_ID             0\n",
       "GAME_STATUS_TEXT    0\n",
       "HOME_TEAM_ID        0\n",
       "VISITOR_TEAM_ID     0\n",
       "SEASON              0\n",
       "TEAM_ID_home        0\n",
       "PTS_home            0\n",
       "FG_PCT_home         0\n",
       "FT_PCT_home         0\n",
       "FG3_PCT_home        0\n",
       "AST_home            0\n",
       "REB_home            0\n",
       "TEAM_ID_away        0\n",
       "PTS_away            0\n",
       "FG_PCT_away         0\n",
       "FT_PCT_away         0\n",
       "FG3_PCT_away        0\n",
       "AST_away            0\n",
       "REB_away            0\n",
       "HOME_TEAM_WINS      0\n",
       "dtype: int64"
      ]
     },
     "execution_count": 8,
     "metadata": {},
     "output_type": "execute_result"
    }
   ],
   "source": [
    "df.isna().sum() # Shows that data doesn't have NA values."
   ]
  },
  {
   "cell_type": "code",
   "execution_count": null,
   "metadata": {},
   "outputs": [],
   "source": []
  }
 ],
 "metadata": {
  "kernelspec": {
   "display_name": "Python 3",
   "language": "python",
   "name": "python3"
  },
  "language_info": {
   "codemirror_mode": {
    "name": "ipython",
    "version": 3
   },
   "file_extension": ".py",
   "mimetype": "text/x-python",
   "name": "python",
   "nbconvert_exporter": "python",
   "pygments_lexer": "ipython3",
   "version": "3.8.5"
  }
 },
 "nbformat": 4,
 "nbformat_minor": 2
}
